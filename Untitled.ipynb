{
 "cells": [
  {
   "cell_type": "code",
   "execution_count": 8,
   "id": "8cdca285-057b-40ab-a41b-90a126a79b5b",
   "metadata": {},
   "outputs": [],
   "source": [
    "%config Completer.use_jedi = False\n",
    "import pandas as pd\n",
    "import numpy as np\n",
    "import openpyxl "
   ]
  },
  {
   "cell_type": "code",
   "execution_count": 6,
   "id": "5ddbf01d-353a-4a2b-a72f-fc8095d834fe",
   "metadata": {},
   "outputs": [],
   "source": [
    "data=pd.read_excel('data final.xlsx',engine='openpyxl')"
   ]
  },
  {
   "cell_type": "code",
   "execution_count": 16,
   "id": "bb88e9c1-565a-4867-9f60-2097c2263713",
   "metadata": {},
   "outputs": [
    {
     "data": {
      "text/plain": [
       "חורף    0.346028\n",
       "סתיו    0.229669\n",
       "אביב    0.225007\n",
       "קיץ     0.199296\n",
       "Name: עונה, dtype: float64"
      ]
     },
     "execution_count": 16,
     "metadata": {},
     "output_type": "execute_result"
    }
   ],
   "source": [
    "data['עונה'].value_counts(normalize=True)"
   ]
  },
  {
   "cell_type": "code",
   "execution_count": 10,
   "id": "ca640490-00bb-44ad-978f-970ae7ff2251",
   "metadata": {},
   "outputs": [
    {
     "data": {
      "text/plain": [
       "ארגון                                        0.000000\n",
       "קהילה / דיור מוגן                            0.000000\n",
       "סוג ארוע                                     0.000000\n",
       "תאריך_קריאה                                  0.000000\n",
       "תאריך_קריאה.1                                0.000000\n",
       "חודש                                         0.000000\n",
       "תאריך_קריאה.2                                0.000000\n",
       "שעה -1                                       0.000000\n",
       "שעה                                          0.000000\n",
       "שנה                                          0.000000\n",
       "חודש.1                                       0.000000\n",
       "סוג יום                                      0.000000\n",
       "יום                                          0.000000\n",
       "קוד לקוח                                     0.000000\n",
       "תעודת_זהות                                   0.093288\n",
       "מגדר 4ז ,5נ , 6זוג                           0.002238\n",
       "מגדר                                         0.002238\n",
       "רמת בדידות 1גר לבד , 2בן זוג , 3 בן משפחה    0.000000\n",
       "עם מי גר                                     0.000000\n",
       "תאור_פעולה                                   0.613534\n",
       "תאריך_התחלה                                  0.608332\n",
       "תאריך_סיום                                   0.618204\n",
       "טלפון                                        0.019034\n",
       "קטגוריות פעולה                               0.000000\n",
       "סוג קטגוריה                                  0.000000\n",
       "כפילות                                       0.000015\n",
       "עונה                                         0.000000\n",
       "dtype: float64"
      ]
     },
     "execution_count": 10,
     "metadata": {},
     "output_type": "execute_result"
    }
   ],
   "source": [
    "data.isna().sum()/len(data)"
   ]
  },
  {
   "cell_type": "code",
   "execution_count": 2,
   "id": "8c4efa8c-fe6c-4abb-bda5-461c178173ec",
   "metadata": {},
   "outputs": [],
   "source": [
    "x=[[1,23,45345,3453]]\n"
   ]
  },
  {
   "cell_type": "code",
   "execution_count": 18,
   "id": "76253f45-5af5-4081-a648-16a966833680",
   "metadata": {},
   "outputs": [
    {
     "name": "stdout",
     "output_type": "stream",
     "text": [
      "option for ארגון ['אש\"ל - עפולה א' 'אש\"ל - עפולה ב' 'אש\"ל - עפולה ג' 'אש\"ל - עפולה ד' 0]\n",
      "option for קהילה / דיור מוגן ['קהילה' 'דיור מוגן' 0]\n",
      "option for סוג ארוע ['חשמל ECI' 'בדיקת תקינות' 'ECI לחצן' 'סוללה חלשה ECI' 'ECI מכשיר'\n",
      " 'שיחה טלפונית' 'אירוע ידני' 'קריאה שמירת קשר' 'נייד קרני']\n",
      "option for חודש [ 1  2  3  4  5  6  7  8  9 10 11 12]\n",
      "option for שעה -1 [ 0  4  8  9 10 11 12 17 22  1  2  7 14 16  5 15 21  6 13 19 18 20 23  3]\n",
      "option for שנה [2012 2013 2014 2015 2016 2017]\n",
      "option for חודש.1 [ 1  2  3  4  5  6  7  8  9 10 11 12]\n",
      "option for סוג יום ['יום חול' 'שבת' 'חג']\n",
      "option for יום ['ראשון' 'שני' 'שלישי' 'רביעי' 'חמישי' 'שישי' 'שבת']\n",
      "option for מגדר 4ז ,5נ , 6זוג [ 5.  6.  4. nan]\n",
      "option for מגדר ['נקבה' 'זוג' 'זכר' nan]\n",
      "option for רמת בדידות 1גר לבד , 2בן זוג , 3 בן משפחה [1 2 3]\n",
      "option for עם מי גר ['גר לבד' 'בן זוג' 'בן משפחה']\n",
      "option for קטגוריות פעולה ['חסר תיאור' 'שירותי רופא' 'ניסוי' 'ייעוץ טלפוני' 'שירות טכני' 'איתחול'\n",
      " 'טעות' 'תשומת לב' 'ניתוק' 'החלפת נציג שירות' 'שירותי אמבולנס'\n",
      " 'עדכון נתונים' 'מנוי לא עונה' 'בירור' 'תלונה' 'ללא פעולות' 'נפילה'\n",
      " 'פנייה לסיוע כללי' 'פעולות איש קשר' 'מתעניינים בשירות' 'נפילה והרמה'\n",
      " 'זימון משטרה' 'הפנייה טופלה' 'המנוי נפטר' 'אדמיניסטרציה']\n",
      "option for סוג קטגוריה ['חסר תיאור' 'שירותי בריאות' 'קריאות חירום - שירותים כלליים']\n",
      "option for כפילות ['כפול' 'חד פעמי' nan]\n",
      "option for עונה ['חורף' 'אביב' 'קיץ' 'סתיו']\n"
     ]
    }
   ],
   "source": [
    "for i in data.columns:\n",
    "    if data[i].nunique()>30:\n",
    "        continue\n",
    "    print(f'option for {i}',data[i].unique())"
   ]
  },
  {
   "cell_type": "code",
   "execution_count": 4,
   "id": "598436f8-087d-4255-9685-ca46c9e2fdb3",
   "metadata": {},
   "outputs": [
    {
     "ename": "SyntaxError",
     "evalue": "invalid syntax (<ipython-input-4-691cb807e7c6>, line 1)",
     "output_type": "error",
     "traceback": [
      "\u001b[0;36m  File \u001b[0;32m\"<ipython-input-4-691cb807e7c6>\"\u001b[0;36m, line \u001b[0;32m1\u001b[0m\n\u001b[0;31m    np.where(x[i] > 24 for i range (0,len(x))\u001b[0m\n\u001b[0m                             ^\u001b[0m\n\u001b[0;31mSyntaxError\u001b[0m\u001b[0;31m:\u001b[0m invalid syntax\n"
     ]
    }
   ],
   "source": [
    "np.where(x[i] > 24 for i range (0,len(x))"
   ]
  },
  {
   "cell_type": "code",
   "execution_count": null,
   "id": "35345138-207c-43a3-b12c-a182cb34f166",
   "metadata": {},
   "outputs": [],
   "source": []
  }
 ],
 "metadata": {
  "kernelspec": {
   "display_name": "main",
   "language": "python",
   "name": "main"
  },
  "language_info": {
   "codemirror_mode": {
    "name": "ipython",
    "version": 3
   },
   "file_extension": ".py",
   "mimetype": "text/x-python",
   "name": "python",
   "nbconvert_exporter": "python",
   "pygments_lexer": "ipython3",
   "version": "3.8.10"
  }
 },
 "nbformat": 4,
 "nbformat_minor": 5
}
