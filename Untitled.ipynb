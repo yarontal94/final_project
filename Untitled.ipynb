{
 "cells": [
  {
   "cell_type": "code",
   "execution_count": 7,
   "id": "8cdca285-057b-40ab-a41b-90a126a79b5b",
   "metadata": {},
   "outputs": [],
   "source": [
    "%config Completer.use_jedi = False\n",
    "import pandas as pd\n",
    "import numpy as np\n",
    "import openpyxl \n",
    "import matplotlib.pyplot as plt"
   ]
  },
  {
   "cell_type": "code",
   "execution_count": 2,
   "id": "5ddbf01d-353a-4a2b-a72f-fc8095d834fe",
   "metadata": {},
   "outputs": [],
   "source": [
    "data=pd.read_excel('data final.xlsx',engine='openpyxl')"
   ]
  },
  {
   "cell_type": "code",
   "execution_count": 40,
   "id": "9701e796-bf41-41a5-ae4d-077b284b0e33",
   "metadata": {},
   "outputs": [
    {
     "data": {
      "text/plain": [
       "(112857, 129555)"
      ]
     },
     "execution_count": 40,
     "metadata": {},
     "output_type": "execute_result"
    }
   ],
   "source": [
    "x=data.drop_duplicates()\n",
    "len(x),len(data)"
   ]
  },
  {
   "cell_type": "code",
   "execution_count": 10,
   "id": "42c1aa0d-c15c-4622-a5b7-f3a733a69bed",
   "metadata": {},
   "outputs": [],
   "source": [
    "data=data[data['קהילה / דיור מוגן']!=0]\n",
    "q=data[data['תאריך_התחלה']!=data['תאריך_סיום']]\n",
    "\n"
   ]
  },
  {
   "cell_type": "code",
   "execution_count": 23,
   "id": "1be0f298-6944-4a1b-8e1a-0f265de1e77d",
   "metadata": {},
   "outputs": [
    {
     "data": {
      "text/plain": [
       "['חשמל ECI',\n",
       " 'בדיקת תקינות',\n",
       " 'ECI לחצן',\n",
       " 'סוללה חלשה ECI',\n",
       " 'ECI מכשיר',\n",
       " 'שיחה טלפונית',\n",
       " 'אירוע ידני',\n",
       " 'קריאה שמירת קשר',\n",
       " 'נייד קרני']"
      ]
     },
     "execution_count": 23,
     "metadata": {},
     "output_type": "execute_result"
    }
   ],
   "source": [
    "data['סוג ארוע'].unique().tolist()"
   ]
  },
  {
   "cell_type": "code",
   "execution_count": null,
   "id": "8e8a031f-c433-4bdf-9e91-209720cd8aa8",
   "metadata": {},
   "outputs": [],
   "source": []
  },
  {
   "cell_type": "code",
   "execution_count": 25,
   "id": "712177fa-980a-468f-b4ed-88e52eda291e",
   "metadata": {},
   "outputs": [],
   "source": [
    "sug_erua_to_drop=['חשמל ECI',\n",
    " 'בדיקת תקינות',\n",
    " 'סוללה חלשה ECI',\n",
    " 'ECI מכשיר'\n",
    "]\n"
   ]
  },
  {
   "cell_type": "code",
   "execution_count": 41,
   "id": "b1af3df2-ba57-45b1-bc19-3dba3c2a3168",
   "metadata": {},
   "outputs": [
    {
     "data": {
      "text/plain": [
       "35476"
      ]
     },
     "execution_count": 41,
     "metadata": {},
     "output_type": "execute_result"
    }
   ],
   "source": [
    "df=data[~data['סוג ארוע'].isin(sug_erua_to_drop)]\n",
    "len(df)"
   ]
  },
  {
   "cell_type": "code",
   "execution_count": 42,
   "id": "7964d155-b927-4a1b-b5c3-a41f96389be5",
   "metadata": {},
   "outputs": [
    {
     "data": {
      "text/plain": [
       "24192"
      ]
     },
     "execution_count": 42,
     "metadata": {},
     "output_type": "execute_result"
    }
   ],
   "source": [
    "df=df.drop_duplicates()\n",
    "len(df)"
   ]
  },
  {
   "cell_type": "code",
   "execution_count": 36,
   "id": "61690bee-ceab-439c-aee4-86dcb4a17efb",
   "metadata": {},
   "outputs": [
    {
     "name": "stderr",
     "output_type": "stream",
     "text": [
      "<ipython-input-36-ed44ec98fe93>:1: SettingWithCopyWarning: \n",
      "A value is trying to be set on a copy of a slice from a DataFrame.\n",
      "Try using .loc[row_indexer,col_indexer] = value instead\n",
      "\n",
      "See the caveats in the documentation: https://pandas.pydata.org/pandas-docs/stable/user_guide/indexing.html#returning-a-view-versus-a-copy\n",
      "  df['diff']=df['תאריך_סיום']-df['תאריך_התחלה']\n"
     ]
    }
   ],
   "source": [
    "df['diff']=df['תאריך_סיום']-df['תאריך_התחלה']"
   ]
  },
  {
   "cell_type": "code",
   "execution_count": 6,
   "id": "252c1c01-bf27-4a55-afe6-4629637ef6cf",
   "metadata": {},
   "outputs": [
    {
     "data": {
      "text/plain": [
       "Index(['ארגון', 'קהילה / דיור מוגן', 'סוג ארוע', 'תאריך_קריאה',\n",
       "       'תאריך_קריאה.1', 'חודש', 'תאריך_קריאה.2', 'שעה -1', 'שעה', 'שנה',\n",
       "       'חודש.1', 'סוג יום', 'יום', 'קוד לקוח', 'תעודת_זהות',\n",
       "       'מגדר 4ז ,5נ , 6זוג', 'מגדר',\n",
       "       'רמת בדידות 1גר לבד , 2בן זוג , 3 בן משפחה', 'עם מי גר', 'תאור_פעולה',\n",
       "       'תאריך_התחלה', 'תאריך_סיום', 'טלפון', 'קטגוריות פעולה', 'סוג קטגוריה',\n",
       "       'כפילות', 'עונה'],\n",
       "      dtype='object')"
      ]
     },
     "execution_count": 6,
     "metadata": {},
     "output_type": "execute_result"
    }
   ],
   "source": [
    "data.columns"
   ]
  },
  {
   "cell_type": "code",
   "execution_count": 37,
   "id": "a554d9cb-e922-426d-aa68-4d6347720a3c",
   "metadata": {},
   "outputs": [
    {
     "data": {
      "text/plain": [
       "2         0.000046\n",
       "3         0.000046\n",
       "4         0.000046\n",
       "5         0.000046\n",
       "6         0.000046\n",
       "            ...   \n",
       "129528    0.000023\n",
       "129529    0.000023\n",
       "129530    0.000023\n",
       "129531    0.000023\n",
       "129547    0.000023\n",
       "Name: diff, Length: 35476, dtype: float64"
      ]
     },
     "execution_count": 37,
     "metadata": {},
     "output_type": "execute_result"
    }
   ],
   "source": [
    "df['diff']"
   ]
  },
  {
   "cell_type": "code",
   "execution_count": 11,
   "id": "5e5c61f9-eea4-4a69-aa35-cb8cde72949f",
   "metadata": {},
   "outputs": [
    {
     "data": {
      "text/plain": [
       "תעודת_זהות\n",
       "0.0            1\n",
       "100685.0       1\n",
       "1205863.0      1\n",
       "1224542.0      1\n",
       "1454164.0      1\n",
       "              ..\n",
       "337981997.0    1\n",
       "337998249.0    1\n",
       "338029614.0    1\n",
       "340902857.0    1\n",
       "543015309.0    1\n",
       "Name: קוד לקוח, Length: 800, dtype: int64"
      ]
     },
     "execution_count": 11,
     "metadata": {},
     "output_type": "execute_result"
    }
   ],
   "source": [
    "n_by_state = data.groupby(\"תעודת_זהות\")[\"קוד לקוח\"].nunique()\n",
    "n_by_state"
   ]
  },
  {
   "cell_type": "code",
   "execution_count": 10,
   "id": "e03b257c-0f8a-4a47-bacf-55315cc67b21",
   "metadata": {},
   "outputs": [
    {
     "data": {
      "text/plain": [
       "חורף    0.346028\n",
       "סתיו    0.229669\n",
       "אביב    0.225007\n",
       "קיץ     0.199296\n",
       "Name: עונה, dtype: float64"
      ]
     },
     "execution_count": 10,
     "metadata": {},
     "output_type": "execute_result"
    }
   ],
   "source": [
    "data['עונה'].value_counts(normalize=True)\n",
    "\n"
   ]
  },
  {
   "cell_type": "code",
   "execution_count": 43,
   "id": "bb88e9c1-565a-4867-9f60-2097c2263713",
   "metadata": {},
   "outputs": [
    {
     "name": "stdout",
     "output_type": "stream",
     "text": [
      "option for ארגון                    ארגון\n",
      "אש\"ל - עפולה א  0.571594\n",
      "אש\"ל - עפולה ב  0.206969\n",
      "אש\"ל - עפולה ג  0.187872\n",
      "אש\"ל - עפולה ד  0.033565\n",
      "---------------#---------------\n",
      "option for קהילה / דיור מוגן            קהילה / דיור מוגן\n",
      "קהילה               0.812128\n",
      "דיור מוגן           0.187872\n",
      "---------------#---------------\n",
      "option for סוג ארוע                  סוג ארוע\n",
      "ECI לחצן         0.776786\n",
      "שיחה טלפונית     0.128100\n",
      "אירוע ידני       0.079117\n",
      "קריאה שמירת קשר  0.015956\n",
      "נייד קרני        0.000041\n",
      "---------------#---------------\n",
      "option for חודש         חודש\n",
      "1   0.091766\n",
      "3   0.090526\n",
      "5   0.087343\n",
      "10  0.086723\n",
      "12  0.086062\n",
      "2   0.083664\n",
      "4   0.081969\n",
      "6   0.080853\n",
      "11  0.079696\n",
      "8   0.078662\n",
      "7   0.078456\n",
      "9   0.074281\n",
      "---------------#---------------\n",
      "option for שעה -1       שעה -1\n",
      "10  0.088955\n",
      "9   0.084491\n",
      "11  0.075314\n",
      "12  0.067171\n",
      "8   0.065146\n",
      "14  0.057581\n",
      "17  0.055432\n",
      "15  0.053654\n",
      "13  0.051711\n",
      "18  0.050554\n",
      "19  0.050265\n",
      "16  0.049975\n",
      "20  0.045180\n",
      "7   0.040840\n",
      "21  0.031374\n",
      "22  0.025380\n",
      "0   0.020792\n",
      "6   0.020089\n",
      "23  0.017320\n",
      "4   0.011326\n",
      "5   0.010954\n",
      "1   0.010706\n",
      "2   0.009507\n",
      "3   0.006283\n",
      "---------------#---------------\n",
      "option for שנה            שנה\n",
      "2012  0.173818\n",
      "2015  0.172454\n",
      "2016  0.169850\n",
      "2017  0.162988\n",
      "2014  0.161954\n",
      "2013  0.158937\n",
      "---------------#---------------\n",
      "option for חודש.1       חודש.1\n",
      "1   0.091766\n",
      "3   0.090526\n",
      "5   0.087343\n",
      "10  0.086723\n",
      "12  0.086062\n",
      "2   0.083664\n",
      "4   0.081969\n",
      "6   0.080853\n",
      "11  0.079696\n",
      "8   0.078662\n",
      "7   0.078456\n",
      "9   0.074281\n",
      "---------------#---------------\n",
      "option for סוג יום           סוג יום\n",
      "יום חול  0.880456\n",
      "שבת      0.105117\n",
      "חג       0.014426\n",
      "---------------#---------------\n",
      "option for יום             יום\n",
      "ראשון  0.168816\n",
      "רביעי  0.158193\n",
      "חמישי  0.157903\n",
      "שלישי  0.147569\n",
      "שני    0.143188\n",
      "שישי   0.116071\n",
      "שבת    0.108259\n",
      "---------------#---------------\n",
      "option for מגדר 4ז ,5נ , 6זוג      מגדר 4ז ,5נ , 6זוג\n",
      "5.0            0.613900\n",
      "6.0            0.261535\n",
      "4.0            0.124564\n",
      "---------------#---------------\n",
      "option for מגדר           מגדר\n",
      "נקבה  0.613900\n",
      "זוג   0.261535\n",
      "זכר   0.124564\n",
      "---------------#---------------\n",
      "option for רמת בדידות 1גר לבד , 2בן זוג , 3 בן משפחה    רמת בדידות 1גר לבד , 2בן זוג , 3 בן משפחה\n",
      "1                                   0.741278\n",
      "2                                   0.257895\n",
      "3                                   0.000827\n",
      "---------------#---------------\n",
      "option for עם מי גר           עם מי גר\n",
      "גר לבד    0.741278\n",
      "בן זוג    0.257895\n",
      "בן משפחה  0.000827\n",
      "---------------#---------------\n",
      "option for קטגוריות פעולה                   קטגוריות פעולה\n",
      "ייעוץ טלפוני            0.255167\n",
      "שירותי רופא             0.213211\n",
      "ניסוי                   0.149926\n",
      "שירותי אמבולנס          0.054109\n",
      "פעולות איש קשר          0.047123\n",
      "איתחול                  0.046007\n",
      "פנייה לסיוע כללי        0.038814\n",
      "טעות                    0.034309\n",
      "ללא פעולות              0.034226\n",
      "חסר תיאור               0.026042\n",
      "הפנייה טופלה            0.019635\n",
      "בירור                   0.019180\n",
      "שירות טכני              0.018477\n",
      "החלפת נציג שירות        0.014798\n",
      "עדכון נתונים            0.007440\n",
      "ניתוק                   0.006076\n",
      "מנוי לא עונה            0.003720\n",
      "מתעניינים בשירות        0.003018\n",
      "נפילה                   0.002480\n",
      "תלונה                   0.001447\n",
      "תשומת לב                0.001405\n",
      "המנוי נפטר              0.001323\n",
      "אדמיניסטרציה            0.001157\n",
      "נפילה והרמה             0.000785\n",
      "זימון משטרה             0.000124\n",
      "---------------#---------------\n",
      "option for סוג קטגוריה                                סוג קטגוריה\n",
      "קריאות חירום - שירותים כלליים     0.706639\n",
      "שירותי בריאות                     0.267320\n",
      "חסר תיאור                         0.026042\n",
      "---------------#---------------\n",
      "option for כפילות            כפילות\n",
      "כפול     0.981315\n",
      "חד פעמי  0.018685\n",
      "---------------#---------------\n",
      "option for עונה           עונה\n",
      "חורף  0.261491\n",
      "אביב  0.259838\n",
      "סתיו  0.240699\n",
      "קיץ   0.237971\n",
      "---------------#---------------\n"
     ]
    }
   ],
   "source": [
    "for i in df.columns:\n",
    "    if df[i].nunique()>30:\n",
    "        continue\n",
    "    print(f'option for {i}',df[i].value_counts(normalize=True).to_frame())\n",
    "    print(\"---------------#---------------\")"
   ]
  },
  {
   "cell_type": "code",
   "execution_count": 20,
   "id": "ca640490-00bb-44ad-978f-970ae7ff2251",
   "metadata": {},
   "outputs": [
    {
     "data": {
      "text/plain": [
       "ארגון                                        0.000000\n",
       "קהילה / דיור מוגן                            0.000000\n",
       "סוג ארוע                                     0.000000\n",
       "תאריך_קריאה                                  0.000000\n",
       "תאריך_קריאה.1                                0.000000\n",
       "חודש                                         0.000000\n",
       "תאריך_קריאה.2                                0.000000\n",
       "שעה -1                                       0.000000\n",
       "שעה                                          0.000000\n",
       "שנה                                          0.000000\n",
       "חודש.1                                       0.000000\n",
       "סוג יום                                      0.000000\n",
       "יום                                          0.000000\n",
       "קוד לקוח                                     0.000000\n",
       "תעודת_זהות                                   0.093289\n",
       "מגדר 4ז ,5נ , 6זוג                           0.002238\n",
       "מגדר                                         0.002238\n",
       "רמת בדידות 1גר לבד , 2בן זוג , 3 בן משפחה    0.000000\n",
       "עם מי גר                                     0.000000\n",
       "תאור_פעולה                                   0.613531\n",
       "תאריך_התחלה                                  0.608329\n",
       "תאריך_סיום                                   0.618201\n",
       "טלפון                                        0.019034\n",
       "קטגוריות פעולה                               0.000000\n",
       "סוג קטגוריה                                  0.000000\n",
       "כפילות                                       0.000015\n",
       "עונה                                         0.000000\n",
       "dtype: float64"
      ]
     },
     "execution_count": 20,
     "metadata": {},
     "output_type": "execute_result"
    }
   ],
   "source": [
    "data.isna().sum()/len(data)"
   ]
  },
  {
   "cell_type": "code",
   "execution_count": 35,
   "id": "6595b80e-df15-4de8-adc7-cf00d8350d7c",
   "metadata": {},
   "outputs": [
    {
     "data": {
      "text/plain": [
       "datetime.datetime(1970, 1, 1, 2, 0, 41, 98882)"
      ]
     },
     "execution_count": 35,
     "metadata": {},
     "output_type": "execute_result"
    }
   ],
   "source": [
    "import datetime\n",
    "your_timestamp = 41098.88179\n",
    "date = datetime.datetime.fromtimestamp(your_timestamp / 1e3)\n",
    "date"
   ]
  },
  {
   "cell_type": "code",
   "execution_count": 18,
   "id": "76253f45-5af5-4081-a648-16a966833680",
   "metadata": {},
   "outputs": [
    {
     "name": "stdout",
     "output_type": "stream",
     "text": [
      "option for ארגון ['אש\"ל - עפולה א' 'אש\"ל - עפולה ב' 'אש\"ל - עפולה ג' 'אש\"ל - עפולה ד' 0]\n",
      "option for קהילה / דיור מוגן ['קהילה' 'דיור מוגן' 0]\n",
      "option for סוג ארוע ['חשמל ECI' 'בדיקת תקינות' 'ECI לחצן' 'סוללה חלשה ECI' 'ECI מכשיר'\n",
      " 'שיחה טלפונית' 'אירוע ידני' 'קריאה שמירת קשר' 'נייד קרני']\n",
      "option for חודש [ 1  2  3  4  5  6  7  8  9 10 11 12]\n",
      "option for שעה -1 [ 0  4  8  9 10 11 12 17 22  1  2  7 14 16  5 15 21  6 13 19 18 20 23  3]\n",
      "option for שנה [2012 2013 2014 2015 2016 2017]\n",
      "option for חודש.1 [ 1  2  3  4  5  6  7  8  9 10 11 12]\n",
      "option for סוג יום ['יום חול' 'שבת' 'חג']\n",
      "option for יום ['ראשון' 'שני' 'שלישי' 'רביעי' 'חמישי' 'שישי' 'שבת']\n",
      "option for מגדר 4ז ,5נ , 6זוג [ 5.  6.  4. nan]\n",
      "option for מגדר ['נקבה' 'זוג' 'זכר' nan]\n",
      "option for רמת בדידות 1גר לבד , 2בן זוג , 3 בן משפחה [1 2 3]\n",
      "option for עם מי גר ['גר לבד' 'בן זוג' 'בן משפחה']\n",
      "option for קטגוריות פעולה ['חסר תיאור' 'שירותי רופא' 'ניסוי' 'ייעוץ טלפוני' 'שירות טכני' 'איתחול'\n",
      " 'טעות' 'תשומת לב' 'ניתוק' 'החלפת נציג שירות' 'שירותי אמבולנס'\n",
      " 'עדכון נתונים' 'מנוי לא עונה' 'בירור' 'תלונה' 'ללא פעולות' 'נפילה'\n",
      " 'פנייה לסיוע כללי' 'פעולות איש קשר' 'מתעניינים בשירות' 'נפילה והרמה'\n",
      " 'זימון משטרה' 'הפנייה טופלה' 'המנוי נפטר' 'אדמיניסטרציה']\n",
      "option for סוג קטגוריה ['חסר תיאור' 'שירותי בריאות' 'קריאות חירום - שירותים כלליים']\n",
      "option for כפילות ['כפול' 'חד פעמי' nan]\n",
      "option for עונה ['חורף' 'אביב' 'קיץ' 'סתיו']\n"
     ]
    }
   ],
   "source": [
    "for i in data.columns:\n",
    "    if data[i].nunique()>30:\n",
    "        continue\n",
    "    print(f'option for {i}',data[i].unique())"
   ]
  },
  {
   "cell_type": "code",
   "execution_count": 4,
   "id": "598436f8-087d-4255-9685-ca46c9e2fdb3",
   "metadata": {},
   "outputs": [
    {
     "ename": "SyntaxError",
     "evalue": "invalid syntax (<ipython-input-4-691cb807e7c6>, line 1)",
     "output_type": "error",
     "traceback": [
      "\u001b[0;36m  File \u001b[0;32m\"<ipython-input-4-691cb807e7c6>\"\u001b[0;36m, line \u001b[0;32m1\u001b[0m\n\u001b[0;31m    np.where(x[i] > 24 for i range (0,len(x))\u001b[0m\n\u001b[0m                             ^\u001b[0m\n\u001b[0;31mSyntaxError\u001b[0m\u001b[0;31m:\u001b[0m invalid syntax\n"
     ]
    }
   ],
   "source": [
    "np.where(x[i] > 24 for i range (0,len(x))"
   ]
  },
  {
   "cell_type": "code",
   "execution_count": null,
   "id": "35345138-207c-43a3-b12c-a182cb34f166",
   "metadata": {},
   "outputs": [],
   "source": []
  }
 ],
 "metadata": {
  "kernelspec": {
   "display_name": "main",
   "language": "python",
   "name": "main"
  },
  "language_info": {
   "codemirror_mode": {
    "name": "ipython",
    "version": 3
   },
   "file_extension": ".py",
   "mimetype": "text/x-python",
   "name": "python",
   "nbconvert_exporter": "python",
   "pygments_lexer": "ipython3",
   "version": "3.8.10"
  }
 },
 "nbformat": 4,
 "nbformat_minor": 5
}
