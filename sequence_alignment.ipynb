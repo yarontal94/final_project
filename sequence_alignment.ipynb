{
 "cells": [
  {
   "cell_type": "code",
   "execution_count": 1,
   "id": "35715f1d-cc5a-4dfa-830f-015e23e33387",
   "metadata": {},
   "outputs": [],
   "source": [
    "%config Completer.use_jedi = False\n",
    "import pandas as pd\n",
    "import numpy as np\n",
    "import openpyxl\n",
    "#import lifelines"
   ]
  },
  {
   "cell_type": "code",
   "execution_count": 95,
   "id": "da172443-2f2b-44c5-abff-2c5ebbd6767a",
   "metadata": {},
   "outputs": [
    {
     "name": "stdout",
     "output_type": "stream",
     "text": [
      "12664\n"
     ]
    }
   ],
   "source": [
    "data=pd.read_excel('data_after_cleaned.xlsx',engine='openpyxl')\n",
    "action_to_drop=['בירור- אמבולנס','איחוד הצלה - עודכנו','אמבולנס - ביטול']\n",
    "data=data.loc[~data['action_desc'].isin(action_to_drop)]\n",
    "x=data.drop(['action_desc',\n",
    "             'counts',\n",
    "             'quantile_10_count',\n",
    "             'out_std',\n",
    "             'q_out',\n",
    "             't_call_int',\n",
    "             'count_until_t_Call'],axis=1)\n",
    "y=x.drop_duplicates()\n",
    "print(len(y))\n",
    "df=y.copy()"
   ]
  },
  {
   "cell_type": "code",
   "execution_count": 3,
   "id": "0b0cd90a-d739-4243-a799-6798defab780",
   "metadata": {},
   "outputs": [
    {
     "data": {
      "text/plain": [
       "'A'"
      ]
     },
     "execution_count": 3,
     "metadata": {},
     "output_type": "execute_result"
    }
   ],
   "source": [
    "chr(97).upper()"
   ]
  },
  {
   "cell_type": "code",
   "execution_count": 79,
   "id": "2cf946b2-aab9-47a8-81d9-d2687d2f75e7",
   "metadata": {},
   "outputs": [],
   "source": [
    "map_dict={}\n",
    "i=97\n",
    "for act in list(df['act_category'].unique()):\n",
    "    map_dict[act]=chr(i).upper()\n",
    "    i=i+1"
   ]
  },
  {
   "cell_type": "code",
   "execution_count": 81,
   "id": "3ad591f8-dcec-40c8-9a53-10e033e681b7",
   "metadata": {},
   "outputs": [],
   "source": [
    "df['act_category_code']=df['act_category'].map(map_dict)"
   ]
  },
  {
   "cell_type": "code",
   "execution_count": 82,
   "id": "31b8f089-fa19-4dda-be96-5fd9d61514de",
   "metadata": {},
   "outputs": [],
   "source": [
    "df['seq']=0\n",
    "df['name_seq']=0\n",
    "for index, row in df.iterrows():\n",
    "    df.loc[df['id']==row['id'],'seq']=df.loc[df['id']==row['id']]['act_category_code'].str.cat(sep=',')\n",
    "    df.loc[df['id']==row['id'],'name_seq']=df.loc[df['id']==row['id']]['act_category'].str.cat(sep=',')\n",
    "    #for index1, row in df.iterrows():\n"
   ]
  },
  {
   "cell_type": "code",
   "execution_count": 96,
   "id": "cdb5555a-9150-4e46-abaf-51f75f805b7e",
   "metadata": {},
   "outputs": [],
   "source": [
    "df['seq']=0\n",
    "df['name_seq']=0\n",
    "l=[]\n",
    "id_list=[]\n",
    "k=1\n",
    "for index, row in df.iterrows():\n",
    "    if row['id'] in id_list:\n",
    "        continue\n",
    "    id_list.append(row['id'])\n",
    "    for i in list(df[df['id']==row['id']]['year'].unique()):\n",
    "        l.append(df.loc[(df['id']==row['id'])&(df['year']==i)]['act_category'].str.cat(sep=','))\n",
    "        \n",
    "    #df.loc[df['id']==row['id'],'seq']=df.loc[df['id']==row['id']]['act_category_code'].str.cat(sep=',')\n",
    "    #df.loc[df['id']==row['id'],'name_seq']=df.loc[df['id']==row['id']]['act_category'].str.cat(sep=',')\n",
    "    #for index1, row in df.iterrows():\n"
   ]
  },
  {
   "cell_type": "code",
   "execution_count": 36,
   "id": "2ef52dbf-5504-4160-beb9-2a3023fd1413",
   "metadata": {},
   "outputs": [
    {
     "data": {
      "text/plain": [
       "(2335,)"
      ]
     },
     "execution_count": 36,
     "metadata": {},
     "output_type": "execute_result"
    }
   ],
   "source": [
    "(len(l),)\n",
    "#df[['id','year']].value_counts()"
   ]
  },
  {
   "cell_type": "code",
   "execution_count": 97,
   "id": "54ee6e3e-ffca-46d0-9a31-d4b803064548",
   "metadata": {},
   "outputs": [],
   "source": [
    "new=[]\n",
    "for i in l:\n",
    "    x=tuple(map(str, i.split(',')))\n",
    "    new.append(x)\n",
    "    "
   ]
  },
  {
   "cell_type": "code",
   "execution_count": 98,
   "id": "5f4a0a41-aa21-4793-ac5f-8ab6779b5932",
   "metadata": {},
   "outputs": [],
   "source": [
    "new1=tuple(new)"
   ]
  },
  {
   "cell_type": "code",
   "execution_count": 46,
   "id": "f2e806e3-cf9a-4dd2-8f73-0944062887c4",
   "metadata": {},
   "outputs": [],
   "source": [
    "# new1"
   ]
  },
  {
   "cell_type": "code",
   "execution_count": 38,
   "id": "e375fa85-a027-40de-95a5-2a2670bd3597",
   "metadata": {},
   "outputs": [
    {
     "data": {
      "text/plain": [
       "('שירותי רופא',\n",
       " 'ייעוץ טלפוני',\n",
       " 'בירור',\n",
       " 'שירותי רופא',\n",
       " 'ייעוץ טלפוני',\n",
       " 'שירותי רופא',\n",
       " 'ייעוץ טלפוני')"
      ]
     },
     "execution_count": 38,
     "metadata": {},
     "output_type": "execute_result"
    }
   ],
   "source": [
    "res = tuple(map(str, l[0].split(',')))\n",
    "res"
   ]
  },
  {
   "cell_type": "code",
   "execution_count": 76,
   "id": "6fda63c5-67f1-433c-a909-714c44e0ad46",
   "metadata": {},
   "outputs": [
    {
     "data": {
      "text/html": [
       "<div>\n",
       "<style scoped>\n",
       "    .dataframe tbody tr th:only-of-type {\n",
       "        vertical-align: middle;\n",
       "    }\n",
       "\n",
       "    .dataframe tbody tr th {\n",
       "        vertical-align: top;\n",
       "    }\n",
       "\n",
       "    .dataframe thead th {\n",
       "        text-align: right;\n",
       "    }\n",
       "</style>\n",
       "<table border=\"1\" class=\"dataframe\">\n",
       "  <thead>\n",
       "    <tr style=\"text-align: right;\">\n",
       "      <th></th>\n",
       "      <th>residence_type</th>\n",
       "      <th>sug_erua</th>\n",
       "      <th>t_call</th>\n",
       "      <th>month</th>\n",
       "      <th>hour</th>\n",
       "      <th>year</th>\n",
       "      <th>day_type</th>\n",
       "      <th>day</th>\n",
       "      <th>id</th>\n",
       "      <th>gender_code</th>\n",
       "      <th>gender_name</th>\n",
       "      <th>lon_code</th>\n",
       "      <th>lon_desc</th>\n",
       "      <th>act_category</th>\n",
       "      <th>type_category</th>\n",
       "      <th>season</th>\n",
       "      <th>act_category_code</th>\n",
       "      <th>seq</th>\n",
       "      <th>name_seq</th>\n",
       "    </tr>\n",
       "  </thead>\n",
       "  <tbody>\n",
       "    <tr>\n",
       "      <th>0</th>\n",
       "      <td>קהילה</td>\n",
       "      <td>ECI לחצן</td>\n",
       "      <td>2012-01-01 08:14:03.653</td>\n",
       "      <td>1</td>\n",
       "      <td>8</td>\n",
       "      <td>2012</td>\n",
       "      <td>יום חול</td>\n",
       "      <td>ראשון</td>\n",
       "      <td>241436</td>\n",
       "      <td>6</td>\n",
       "      <td>זוג</td>\n",
       "      <td>2</td>\n",
       "      <td>בן זוג</td>\n",
       "      <td>שירותי רופא</td>\n",
       "      <td>שירותי בריאות</td>\n",
       "      <td>חורף</td>\n",
       "      <td>A</td>\n",
       "      <td>0</td>\n",
       "      <td>0</td>\n",
       "    </tr>\n",
       "    <tr>\n",
       "      <th>968</th>\n",
       "      <td>קהילה</td>\n",
       "      <td>ECI לחצן</td>\n",
       "      <td>2012-04-18 14:22:13.700</td>\n",
       "      <td>4</td>\n",
       "      <td>14</td>\n",
       "      <td>2012</td>\n",
       "      <td>יום חול</td>\n",
       "      <td>רביעי</td>\n",
       "      <td>241436</td>\n",
       "      <td>6</td>\n",
       "      <td>זוג</td>\n",
       "      <td>2</td>\n",
       "      <td>בן זוג</td>\n",
       "      <td>ייעוץ טלפוני</td>\n",
       "      <td>קריאות חירום - שירותים כלליים</td>\n",
       "      <td>אביב</td>\n",
       "      <td>B</td>\n",
       "      <td>0</td>\n",
       "      <td>0</td>\n",
       "    </tr>\n",
       "    <tr>\n",
       "      <th>971</th>\n",
       "      <td>קהילה</td>\n",
       "      <td>ECI לחצן</td>\n",
       "      <td>2012-04-18 14:53:56.620</td>\n",
       "      <td>4</td>\n",
       "      <td>14</td>\n",
       "      <td>2012</td>\n",
       "      <td>יום חול</td>\n",
       "      <td>רביעי</td>\n",
       "      <td>241436</td>\n",
       "      <td>6</td>\n",
       "      <td>זוג</td>\n",
       "      <td>2</td>\n",
       "      <td>בן זוג</td>\n",
       "      <td>בירור</td>\n",
       "      <td>קריאות חירום - שירותים כלליים</td>\n",
       "      <td>אביב</td>\n",
       "      <td>K</td>\n",
       "      <td>0</td>\n",
       "      <td>0</td>\n",
       "    </tr>\n",
       "    <tr>\n",
       "      <th>972</th>\n",
       "      <td>קהילה</td>\n",
       "      <td>ECI מכשיר</td>\n",
       "      <td>2012-04-18 14:55:23.583</td>\n",
       "      <td>4</td>\n",
       "      <td>14</td>\n",
       "      <td>2012</td>\n",
       "      <td>יום חול</td>\n",
       "      <td>רביעי</td>\n",
       "      <td>241436</td>\n",
       "      <td>6</td>\n",
       "      <td>זוג</td>\n",
       "      <td>2</td>\n",
       "      <td>בן זוג</td>\n",
       "      <td>שירותי רופא</td>\n",
       "      <td>שירותי בריאות</td>\n",
       "      <td>אביב</td>\n",
       "      <td>A</td>\n",
       "      <td>0</td>\n",
       "      <td>0</td>\n",
       "    </tr>\n",
       "    <tr>\n",
       "      <th>1929</th>\n",
       "      <td>קהילה</td>\n",
       "      <td>ECI לחצן</td>\n",
       "      <td>2012-08-07 20:14:08.063</td>\n",
       "      <td>8</td>\n",
       "      <td>20</td>\n",
       "      <td>2012</td>\n",
       "      <td>יום חול</td>\n",
       "      <td>שלישי</td>\n",
       "      <td>241436</td>\n",
       "      <td>6</td>\n",
       "      <td>זוג</td>\n",
       "      <td>2</td>\n",
       "      <td>בן זוג</td>\n",
       "      <td>ייעוץ טלפוני</td>\n",
       "      <td>קריאות חירום - שירותים כלליים</td>\n",
       "      <td>קיץ</td>\n",
       "      <td>B</td>\n",
       "      <td>0</td>\n",
       "      <td>0</td>\n",
       "    </tr>\n",
       "    <tr>\n",
       "      <th>3336</th>\n",
       "      <td>קהילה</td>\n",
       "      <td>ECI לחצן</td>\n",
       "      <td>2012-12-13 14:59:26.560</td>\n",
       "      <td>12</td>\n",
       "      <td>14</td>\n",
       "      <td>2012</td>\n",
       "      <td>יום חול</td>\n",
       "      <td>חמישי</td>\n",
       "      <td>241436</td>\n",
       "      <td>6</td>\n",
       "      <td>זוג</td>\n",
       "      <td>2</td>\n",
       "      <td>בן זוג</td>\n",
       "      <td>שירותי רופא</td>\n",
       "      <td>שירותי בריאות</td>\n",
       "      <td>חורף</td>\n",
       "      <td>A</td>\n",
       "      <td>0</td>\n",
       "      <td>0</td>\n",
       "    </tr>\n",
       "    <tr>\n",
       "      <th>3337</th>\n",
       "      <td>קהילה</td>\n",
       "      <td>ECI לחצן</td>\n",
       "      <td>2012-12-13 14:59:26.560</td>\n",
       "      <td>12</td>\n",
       "      <td>14</td>\n",
       "      <td>2012</td>\n",
       "      <td>יום חול</td>\n",
       "      <td>חמישי</td>\n",
       "      <td>241436</td>\n",
       "      <td>6</td>\n",
       "      <td>זוג</td>\n",
       "      <td>2</td>\n",
       "      <td>בן זוג</td>\n",
       "      <td>ייעוץ טלפוני</td>\n",
       "      <td>קריאות חירום - שירותים כלליים</td>\n",
       "      <td>חורף</td>\n",
       "      <td>B</td>\n",
       "      <td>0</td>\n",
       "      <td>0</td>\n",
       "    </tr>\n",
       "  </tbody>\n",
       "</table>\n",
       "</div>"
      ],
      "text/plain": [
       "     residence_type   sug_erua                  t_call  month  hour  year  \\\n",
       "0             קהילה   ECI לחצן 2012-01-01 08:14:03.653      1     8  2012   \n",
       "968           קהילה   ECI לחצן 2012-04-18 14:22:13.700      4    14  2012   \n",
       "971           קהילה   ECI לחצן 2012-04-18 14:53:56.620      4    14  2012   \n",
       "972           קהילה  ECI מכשיר 2012-04-18 14:55:23.583      4    14  2012   \n",
       "1929          קהילה   ECI לחצן 2012-08-07 20:14:08.063      8    20  2012   \n",
       "3336          קהילה   ECI לחצן 2012-12-13 14:59:26.560     12    14  2012   \n",
       "3337          קהילה   ECI לחצן 2012-12-13 14:59:26.560     12    14  2012   \n",
       "\n",
       "     day_type    day      id  gender_code gender_name  lon_code lon_desc  \\\n",
       "0     יום חול  ראשון  241436            6         זוג         2   בן זוג   \n",
       "968   יום חול  רביעי  241436            6         זוג         2   בן זוג   \n",
       "971   יום חול  רביעי  241436            6         זוג         2   בן זוג   \n",
       "972   יום חול  רביעי  241436            6         זוג         2   בן זוג   \n",
       "1929  יום חול  שלישי  241436            6         זוג         2   בן זוג   \n",
       "3336  יום חול  חמישי  241436            6         זוג         2   בן זוג   \n",
       "3337  יום חול  חמישי  241436            6         זוג         2   בן זוג   \n",
       "\n",
       "      act_category                  type_category season act_category_code  \\\n",
       "0      שירותי רופא                  שירותי בריאות   חורף                 A   \n",
       "968   ייעוץ טלפוני  קריאות חירום - שירותים כלליים   אביב                 B   \n",
       "971          בירור  קריאות חירום - שירותים כלליים   אביב                 K   \n",
       "972    שירותי רופא                  שירותי בריאות   אביב                 A   \n",
       "1929  ייעוץ טלפוני  קריאות חירום - שירותים כלליים    קיץ                 B   \n",
       "3336   שירותי רופא                  שירותי בריאות   חורף                 A   \n",
       "3337  ייעוץ טלפוני  קריאות חירום - שירותים כלליים   חורף                 B   \n",
       "\n",
       "      seq  name_seq  \n",
       "0       0         0  \n",
       "968     0         0  \n",
       "971     0         0  \n",
       "972     0         0  \n",
       "1929    0         0  \n",
       "3336    0         0  \n",
       "3337    0         0  "
      ]
     },
     "execution_count": 76,
     "metadata": {},
     "output_type": "execute_result"
    }
   ],
   "source": [
    "l\n",
    "df[(df['id']==241436)&(df['year']==2012)]"
   ]
  },
  {
   "cell_type": "code",
   "execution_count": null,
   "id": "0fdfd878-212f-45da-b32e-0e0b86a01b28",
   "metadata": {},
   "outputs": [],
   "source": []
  },
  {
   "cell_type": "code",
   "execution_count": 80,
   "id": "4f756bd8-2202-43ac-91aa-84a25d5414f6",
   "metadata": {},
   "outputs": [],
   "source": [
    "# df[df['id']==7859]"
   ]
  },
  {
   "cell_type": "code",
   "execution_count": 83,
   "id": "54c1db5b-0d2f-476a-8e0c-d85167c6c5ae",
   "metadata": {},
   "outputs": [
    {
     "data": {
      "text/plain": [
       "775"
      ]
     },
     "execution_count": 83,
     "metadata": {},
     "output_type": "execute_result"
    }
   ],
   "source": [
    "seq_df=df[['id','seq','name_seq']].drop_duplicates()\n",
    "len(seq_df)"
   ]
  },
  {
   "cell_type": "code",
   "execution_count": 84,
   "id": "51cc576c-3686-47f5-8190-73e1434addef",
   "metadata": {},
   "outputs": [],
   "source": [
    "seq_df['tupple']=seq_df['seq'].apply(lambda x:tuple(x.split(',')))\n",
    "seq_df['tupple_name']=seq_df['name_seq'].apply(lambda x:tuple(x.split(',')))\n",
    "tap=[]\n",
    "for index, row in seq_df.iterrows():\n",
    "    tap.append(row['tupple_name'])\n",
    "tap1=tuple(tap)\n"
   ]
  },
  {
   "cell_type": "code",
   "execution_count": 19,
   "id": "c07b9797-8e79-4780-82f3-463f4a8b151e",
   "metadata": {},
   "outputs": [],
   "source": [
    "# tap1"
   ]
  },
  {
   "cell_type": "code",
   "execution_count": 20,
   "id": "f5b6e2ae-47f0-454f-a4ef-e6278d217487",
   "metadata": {},
   "outputs": [],
   "source": [
    "from pymining import seqmining\n",
    "from pymining import itemmining, assocrules, perftesting"
   ]
  },
  {
   "cell_type": "code",
   "execution_count": 99,
   "id": "457299b0-83d4-49f4-9b26-8a545b4ee058",
   "metadata": {},
   "outputs": [],
   "source": [
    "transactions = new1\n",
    "relim_input = itemmining.get_relim_input(transactions)\n",
    "item_sets = itemmining.relim(relim_input, min_support=100)\n",
    "rules = assocrules.mine_assoc_rules(item_sets, min_support=100, min_confidence=0.5)"
   ]
  },
  {
   "cell_type": "code",
   "execution_count": 100,
   "id": "a2ed9587-86e1-44c7-b249-f9500ee060ce",
   "metadata": {},
   "outputs": [],
   "source": [
    "df_seq = pd.DataFrame(list(rules), columns=['gorerr', 'novea','support','confidence'])"
   ]
  },
  {
   "cell_type": "code",
   "execution_count": 87,
   "id": "e1bbf1b9-2fc5-4b87-8312-890b3c9333e1",
   "metadata": {},
   "outputs": [],
   "source": [
    "transactions = tap1\n",
    "relim_input = itemmining.get_relim_input(transactions)\n",
    "item_sets = itemmining.relim(relim_input, min_support=100)\n",
    "rules = assocrules.mine_assoc_rules(item_sets, min_support=100, min_confidence=0.7)"
   ]
  },
  {
   "cell_type": "code",
   "execution_count": 102,
   "id": "a89c5a10-2ad3-4905-8ca4-f28513feb70d",
   "metadata": {},
   "outputs": [
    {
     "data": {
      "text/html": [
       "<div>\n",
       "<style scoped>\n",
       "    .dataframe tbody tr th:only-of-type {\n",
       "        vertical-align: middle;\n",
       "    }\n",
       "\n",
       "    .dataframe tbody tr th {\n",
       "        vertical-align: top;\n",
       "    }\n",
       "\n",
       "    .dataframe thead th {\n",
       "        text-align: right;\n",
       "    }\n",
       "</style>\n",
       "<table border=\"1\" class=\"dataframe\">\n",
       "  <thead>\n",
       "    <tr style=\"text-align: right;\">\n",
       "      <th></th>\n",
       "      <th>gorerr</th>\n",
       "      <th>novea</th>\n",
       "      <th>support</th>\n",
       "      <th>confidence</th>\n",
       "    </tr>\n",
       "  </thead>\n",
       "  <tbody>\n",
       "    <tr>\n",
       "      <th>0</th>\n",
       "      <td>(פנייה לסיוע כללי, בירור, שירותי רופא)</td>\n",
       "      <td>(ייעוץ טלפוני)</td>\n",
       "      <td>110</td>\n",
       "      <td>0.940171</td>\n",
       "    </tr>\n",
       "    <tr>\n",
       "      <th>1</th>\n",
       "      <td>(פנייה לסיוע כללי, בירור)</td>\n",
       "      <td>(ייעוץ טלפוני, שירותי רופא)</td>\n",
       "      <td>110</td>\n",
       "      <td>0.666667</td>\n",
       "    </tr>\n",
       "    <tr>\n",
       "      <th>2</th>\n",
       "      <td>(ייעוץ טלפוני, פנייה לסיוע כללי, בירור)</td>\n",
       "      <td>(שירותי רופא)</td>\n",
       "      <td>110</td>\n",
       "      <td>0.743243</td>\n",
       "    </tr>\n",
       "    <tr>\n",
       "      <th>3</th>\n",
       "      <td>(פעולות איש קשר, בירור, שירותי רופא)</td>\n",
       "      <td>(ייעוץ טלפוני)</td>\n",
       "      <td>126</td>\n",
       "      <td>0.954545</td>\n",
       "    </tr>\n",
       "    <tr>\n",
       "      <th>4</th>\n",
       "      <td>(בירור, שירותי רופא)</td>\n",
       "      <td>(ייעוץ טלפוני, פעולות איש קשר)</td>\n",
       "      <td>126</td>\n",
       "      <td>0.506024</td>\n",
       "    </tr>\n",
       "    <tr>\n",
       "      <th>...</th>\n",
       "      <td>...</td>\n",
       "      <td>...</td>\n",
       "      <td>...</td>\n",
       "      <td>...</td>\n",
       "    </tr>\n",
       "    <tr>\n",
       "      <th>83</th>\n",
       "      <td>(פנייה לסיוע כללי)</td>\n",
       "      <td>(ייעוץ טלפוני)</td>\n",
       "      <td>421</td>\n",
       "      <td>0.627422</td>\n",
       "    </tr>\n",
       "    <tr>\n",
       "      <th>84</th>\n",
       "      <td>(פעולות איש קשר)</td>\n",
       "      <td>(שירותי רופא)</td>\n",
       "      <td>572</td>\n",
       "      <td>0.826590</td>\n",
       "    </tr>\n",
       "    <tr>\n",
       "      <th>85</th>\n",
       "      <td>(פעולות איש קשר)</td>\n",
       "      <td>(ייעוץ טלפוני)</td>\n",
       "      <td>509</td>\n",
       "      <td>0.735549</td>\n",
       "    </tr>\n",
       "    <tr>\n",
       "      <th>86</th>\n",
       "      <td>(שירותי רופא)</td>\n",
       "      <td>(ייעוץ טלפוני)</td>\n",
       "      <td>770</td>\n",
       "      <td>0.667823</td>\n",
       "    </tr>\n",
       "    <tr>\n",
       "      <th>87</th>\n",
       "      <td>(ייעוץ טלפוני)</td>\n",
       "      <td>(שירותי רופא)</td>\n",
       "      <td>770</td>\n",
       "      <td>0.610626</td>\n",
       "    </tr>\n",
       "  </tbody>\n",
       "</table>\n",
       "<p>88 rows × 4 columns</p>\n",
       "</div>"
      ],
      "text/plain": [
       "                                     gorerr                           novea  \\\n",
       "0    (פנייה לסיוע כללי, בירור, שירותי רופא)                  (ייעוץ טלפוני)   \n",
       "1                 (פנייה לסיוע כללי, בירור)     (ייעוץ טלפוני, שירותי רופא)   \n",
       "2   (ייעוץ טלפוני, פנייה לסיוע כללי, בירור)                   (שירותי רופא)   \n",
       "3      (פעולות איש קשר, בירור, שירותי רופא)                  (ייעוץ טלפוני)   \n",
       "4                      (בירור, שירותי רופא)  (ייעוץ טלפוני, פעולות איש קשר)   \n",
       "..                                      ...                             ...   \n",
       "83                       (פנייה לסיוע כללי)                  (ייעוץ טלפוני)   \n",
       "84                         (פעולות איש קשר)                   (שירותי רופא)   \n",
       "85                         (פעולות איש קשר)                  (ייעוץ טלפוני)   \n",
       "86                            (שירותי רופא)                  (ייעוץ טלפוני)   \n",
       "87                           (ייעוץ טלפוני)                   (שירותי רופא)   \n",
       "\n",
       "    support  confidence  \n",
       "0       110    0.940171  \n",
       "1       110    0.666667  \n",
       "2       110    0.743243  \n",
       "3       126    0.954545  \n",
       "4       126    0.506024  \n",
       "..      ...         ...  \n",
       "83      421    0.627422  \n",
       "84      572    0.826590  \n",
       "85      509    0.735549  \n",
       "86      770    0.667823  \n",
       "87      770    0.610626  \n",
       "\n",
       "[88 rows x 4 columns]"
      ]
     },
     "execution_count": 102,
     "metadata": {},
     "output_type": "execute_result"
    }
   ],
   "source": [
    "df_seq.head(88)"
   ]
  },
  {
   "cell_type": "code",
   "execution_count": 94,
   "id": "98ff18ff-39ac-4897-bd56-39c507521902",
   "metadata": {},
   "outputs": [],
   "source": [
    "# rules"
   ]
  },
  {
   "cell_type": "code",
   "execution_count": 89,
   "id": "d513045d-2675-4ff9-a94c-a70ddb7b4fc5",
   "metadata": {},
   "outputs": [],
   "source": [
    "df_seq = pd.DataFrame(list(rules), columns=['gorerr', 'novea','support','confidence'])"
   ]
  },
  {
   "cell_type": "code",
   "execution_count": 103,
   "id": "497a7860-41d5-4a20-9a88-280d7a905cf2",
   "metadata": {},
   "outputs": [],
   "source": [
    "df_seq.to_csv('saoundperyear.csv',index=False,encoding = 'utf-8-sig')"
   ]
  },
  {
   "cell_type": "code",
   "execution_count": 93,
   "id": "ace2ca0e-8046-404b-a31c-6b5e4b4a3468",
   "metadata": {},
   "outputs": [],
   "source": [
    "df_seq.to_csv('saound.csv',index=False,encoding = 'utf-8-sig')"
   ]
  },
  {
   "cell_type": "code",
   "execution_count": 69,
   "id": "489a3963-5311-45b2-a4cd-48430db1b02c",
   "metadata": {},
   "outputs": [],
   "source": [
    "# from pymining import seqmining\n",
    "# seqs = tap1[1:10]\n",
    "# freq_seqs = seqmining.freq_seq_enum(seqs, 2)\n",
    "# sorted(freq_seqs)"
   ]
  },
  {
   "cell_type": "code",
   "execution_count": null,
   "id": "cede0d19-95da-4488-a942-19fc7e82ba84",
   "metadata": {},
   "outputs": [],
   "source": []
  },
  {
   "cell_type": "code",
   "execution_count": null,
   "id": "2345762f-9ce0-462e-bf2f-be9135b100bb",
   "metadata": {},
   "outputs": [],
   "source": [
    "from pymining import itemmining, assocrules, perftesting\n",
    "transactions = perftesting.get_default_transactions()\n",
    "relim_input = itemmining.get_relim_input(transactions)\n",
    "item_sets = itemmining.relim(relim_input, min_support=2)\n",
    "rules = assocrules.mine_assoc_rules(item_sets, min_support=2, min_confidence=0.5)\n",
    "rules"
   ]
  }
 ],
 "metadata": {
  "kernelspec": {
   "display_name": "main",
   "language": "python",
   "name": "main"
  },
  "language_info": {
   "codemirror_mode": {
    "name": "ipython",
    "version": 3
   },
   "file_extension": ".py",
   "mimetype": "text/x-python",
   "name": "python",
   "nbconvert_exporter": "python",
   "pygments_lexer": "ipython3",
   "version": "3.8.12"
  }
 },
 "nbformat": 4,
 "nbformat_minor": 5
}
